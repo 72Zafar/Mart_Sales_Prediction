{
 "cells": [
  {
   "cell_type": "code",
   "execution_count": 1,
   "id": "7107b316",
   "metadata": {
    "_cell_guid": "b1076dfc-b9ad-4769-8c92-a6c4dae69d19",
    "_uuid": "8f2839f25d086af736a60e9eeb907d3b93b6e0e5",
    "execution": {
     "iopub.execute_input": "2024-10-24T17:17:19.948341Z",
     "iopub.status.busy": "2024-10-24T17:17:19.947792Z",
     "iopub.status.idle": "2024-10-24T17:17:20.930267Z",
     "shell.execute_reply": "2024-10-24T17:17:20.928835Z"
    },
    "papermill": {
     "duration": 0.998382,
     "end_time": "2024-10-24T17:17:20.932757",
     "exception": false,
     "start_time": "2024-10-24T17:17:19.934375",
     "status": "completed"
    },
    "tags": []
   },
   "outputs": [
    {
     "name": "stdout",
     "output_type": "stream",
     "text": [
      "/kaggle/input/bigmart-sales-data/Train.csv\n",
      "/kaggle/input/bigmart-sales-data/Test.csv\n"
     ]
    }
   ],
   "source": [
    "# This Python 3 environment comes with many helpful analytics libraries installed\n",
    "# It is defined by the kaggle/python Docker image: https://github.com/kaggle/docker-python\n",
    "# For example, here's several helpful packages to load\n",
    "\n",
    "import numpy as np # linear algebra\n",
    "import pandas as pd # data processing, CSV file I/O (e.g. pd.read_csv)\n",
    "\n",
    "# Input data files are available in the read-only \"../input/\" directory\n",
    "# For example, running this (by clicking run or pressing Shift+Enter) will list all files under the input directory\n",
    "\n",
    "import os\n",
    "for dirname, _, filenames in os.walk('/kaggle/input'):\n",
    "    for filename in filenames:\n",
    "        print(os.path.join(dirname, filename))\n",
    "\n",
    "# You can write up to 20GB to the current directory (/kaggle/working/) that gets preserved as output when you create a version using \"Save & Run All\" \n",
    "# You can also write temporary files to /kaggle/temp/, but they won't be saved outside of the current session"
   ]
  },
  {
   "cell_type": "markdown",
   "id": "0b07b46d",
   "metadata": {
    "papermill": {
     "duration": 0.012491,
     "end_time": "2024-10-24T17:17:20.956314",
     "exception": false,
     "start_time": "2024-10-24T17:17:20.943823",
     "status": "completed"
    },
    "tags": []
   },
   "source": [
    "# Import Needed Libraries"
   ]
  },
  {
   "cell_type": "code",
   "execution_count": 2,
   "id": "049566f7",
   "metadata": {
    "execution": {
     "iopub.execute_input": "2024-10-24T17:17:20.980013Z",
     "iopub.status.busy": "2024-10-24T17:17:20.979446Z",
     "iopub.status.idle": "2024-10-24T17:17:23.252355Z",
     "shell.execute_reply": "2024-10-24T17:17:23.251114Z"
    },
    "papermill": {
     "duration": 2.287864,
     "end_time": "2024-10-24T17:17:23.255149",
     "exception": false,
     "start_time": "2024-10-24T17:17:20.967285",
     "status": "completed"
    },
    "tags": []
   },
   "outputs": [],
   "source": [
    "import pandas as pd \n",
    "import numpy as np\n",
    "import matplotlib.pyplot as plt\n",
    "import seaborn as sns\n",
    "from sklearn.preprocessing import LabelEncoder\n",
    "from sklearn.model_selection import train_test_split\n",
    "from xgboost import XGBRegressor\n",
    "from sklearn import metrics\n",
    "from warnings import filterwarnings\n",
    "filterwarnings('ignore')"
   ]
  },
  {
   "cell_type": "markdown",
   "id": "70dbdf17",
   "metadata": {
    "papermill": {
     "duration": 0.010485,
     "end_time": "2024-10-24T17:17:23.276550",
     "exception": false,
     "start_time": "2024-10-24T17:17:23.266065",
     "status": "completed"
    },
    "tags": []
   },
   "source": [
    "# data collection and analysis"
   ]
  },
  {
   "cell_type": "code",
   "execution_count": 3,
   "id": "4556b80e",
   "metadata": {
    "execution": {
     "iopub.execute_input": "2024-10-24T17:17:23.299789Z",
     "iopub.status.busy": "2024-10-24T17:17:23.299254Z",
     "iopub.status.idle": "2024-10-24T17:17:23.348159Z",
     "shell.execute_reply": "2024-10-24T17:17:23.346959Z"
    },
    "papermill": {
     "duration": 0.06353,
     "end_time": "2024-10-24T17:17:23.350798",
     "exception": false,
     "start_time": "2024-10-24T17:17:23.287268",
     "status": "completed"
    },
    "tags": []
   },
   "outputs": [],
   "source": [
    "#Read the data\n",
    "df = pd.read_csv(\"/kaggle/input/bigmart-sales-data/Train.csv\")"
   ]
  },
  {
   "cell_type": "code",
   "execution_count": 4,
   "id": "9c2e12be",
   "metadata": {
    "execution": {
     "iopub.execute_input": "2024-10-24T17:17:23.376711Z",
     "iopub.status.busy": "2024-10-24T17:17:23.376319Z",
     "iopub.status.idle": "2024-10-24T17:17:23.404098Z",
     "shell.execute_reply": "2024-10-24T17:17:23.402744Z"
    },
    "papermill": {
     "duration": 0.044672,
     "end_time": "2024-10-24T17:17:23.406817",
     "exception": false,
     "start_time": "2024-10-24T17:17:23.362145",
     "status": "completed"
    },
    "tags": []
   },
   "outputs": [
    {
     "data": {
      "text/html": [
       "<div>\n",
       "<style scoped>\n",
       "    .dataframe tbody tr th:only-of-type {\n",
       "        vertical-align: middle;\n",
       "    }\n",
       "\n",
       "    .dataframe tbody tr th {\n",
       "        vertical-align: top;\n",
       "    }\n",
       "\n",
       "    .dataframe thead th {\n",
       "        text-align: right;\n",
       "    }\n",
       "</style>\n",
       "<table border=\"1\" class=\"dataframe\">\n",
       "  <thead>\n",
       "    <tr style=\"text-align: right;\">\n",
       "      <th></th>\n",
       "      <th>Item_Identifier</th>\n",
       "      <th>Item_Weight</th>\n",
       "      <th>Item_Fat_Content</th>\n",
       "      <th>Item_Visibility</th>\n",
       "      <th>Item_Type</th>\n",
       "      <th>Item_MRP</th>\n",
       "      <th>Outlet_Identifier</th>\n",
       "      <th>Outlet_Establishment_Year</th>\n",
       "      <th>Outlet_Size</th>\n",
       "      <th>Outlet_Location_Type</th>\n",
       "      <th>Outlet_Type</th>\n",
       "      <th>Item_Outlet_Sales</th>\n",
       "    </tr>\n",
       "  </thead>\n",
       "  <tbody>\n",
       "    <tr>\n",
       "      <th>0</th>\n",
       "      <td>FDA15</td>\n",
       "      <td>9.30</td>\n",
       "      <td>Low Fat</td>\n",
       "      <td>0.016047</td>\n",
       "      <td>Dairy</td>\n",
       "      <td>249.8092</td>\n",
       "      <td>OUT049</td>\n",
       "      <td>1999</td>\n",
       "      <td>Medium</td>\n",
       "      <td>Tier 1</td>\n",
       "      <td>Supermarket Type1</td>\n",
       "      <td>3735.1380</td>\n",
       "    </tr>\n",
       "    <tr>\n",
       "      <th>1</th>\n",
       "      <td>DRC01</td>\n",
       "      <td>5.92</td>\n",
       "      <td>Regular</td>\n",
       "      <td>0.019278</td>\n",
       "      <td>Soft Drinks</td>\n",
       "      <td>48.2692</td>\n",
       "      <td>OUT018</td>\n",
       "      <td>2009</td>\n",
       "      <td>Medium</td>\n",
       "      <td>Tier 3</td>\n",
       "      <td>Supermarket Type2</td>\n",
       "      <td>443.4228</td>\n",
       "    </tr>\n",
       "    <tr>\n",
       "      <th>2</th>\n",
       "      <td>FDN15</td>\n",
       "      <td>17.50</td>\n",
       "      <td>Low Fat</td>\n",
       "      <td>0.016760</td>\n",
       "      <td>Meat</td>\n",
       "      <td>141.6180</td>\n",
       "      <td>OUT049</td>\n",
       "      <td>1999</td>\n",
       "      <td>Medium</td>\n",
       "      <td>Tier 1</td>\n",
       "      <td>Supermarket Type1</td>\n",
       "      <td>2097.2700</td>\n",
       "    </tr>\n",
       "    <tr>\n",
       "      <th>3</th>\n",
       "      <td>FDX07</td>\n",
       "      <td>19.20</td>\n",
       "      <td>Regular</td>\n",
       "      <td>0.000000</td>\n",
       "      <td>Fruits and Vegetables</td>\n",
       "      <td>182.0950</td>\n",
       "      <td>OUT010</td>\n",
       "      <td>1998</td>\n",
       "      <td>NaN</td>\n",
       "      <td>Tier 3</td>\n",
       "      <td>Grocery Store</td>\n",
       "      <td>732.3800</td>\n",
       "    </tr>\n",
       "    <tr>\n",
       "      <th>4</th>\n",
       "      <td>NCD19</td>\n",
       "      <td>8.93</td>\n",
       "      <td>Low Fat</td>\n",
       "      <td>0.000000</td>\n",
       "      <td>Household</td>\n",
       "      <td>53.8614</td>\n",
       "      <td>OUT013</td>\n",
       "      <td>1987</td>\n",
       "      <td>High</td>\n",
       "      <td>Tier 3</td>\n",
       "      <td>Supermarket Type1</td>\n",
       "      <td>994.7052</td>\n",
       "    </tr>\n",
       "  </tbody>\n",
       "</table>\n",
       "</div>"
      ],
      "text/plain": [
       "  Item_Identifier  Item_Weight Item_Fat_Content  Item_Visibility  \\\n",
       "0           FDA15         9.30          Low Fat         0.016047   \n",
       "1           DRC01         5.92          Regular         0.019278   \n",
       "2           FDN15        17.50          Low Fat         0.016760   \n",
       "3           FDX07        19.20          Regular         0.000000   \n",
       "4           NCD19         8.93          Low Fat         0.000000   \n",
       "\n",
       "               Item_Type  Item_MRP Outlet_Identifier  \\\n",
       "0                  Dairy  249.8092            OUT049   \n",
       "1            Soft Drinks   48.2692            OUT018   \n",
       "2                   Meat  141.6180            OUT049   \n",
       "3  Fruits and Vegetables  182.0950            OUT010   \n",
       "4              Household   53.8614            OUT013   \n",
       "\n",
       "   Outlet_Establishment_Year Outlet_Size Outlet_Location_Type  \\\n",
       "0                       1999      Medium               Tier 1   \n",
       "1                       2009      Medium               Tier 3   \n",
       "2                       1999      Medium               Tier 1   \n",
       "3                       1998         NaN               Tier 3   \n",
       "4                       1987        High               Tier 3   \n",
       "\n",
       "         Outlet_Type  Item_Outlet_Sales  \n",
       "0  Supermarket Type1          3735.1380  \n",
       "1  Supermarket Type2           443.4228  \n",
       "2  Supermarket Type1          2097.2700  \n",
       "3      Grocery Store           732.3800  \n",
       "4  Supermarket Type1           994.7052  "
      ]
     },
     "execution_count": 4,
     "metadata": {},
     "output_type": "execute_result"
    }
   ],
   "source": [
    "#See first\n",
    "df.head()"
   ]
  },
  {
   "cell_type": "code",
   "execution_count": 5,
   "id": "fd62e418",
   "metadata": {
    "execution": {
     "iopub.execute_input": "2024-10-24T17:17:23.432745Z",
     "iopub.status.busy": "2024-10-24T17:17:23.431695Z",
     "iopub.status.idle": "2024-10-24T17:17:23.439352Z",
     "shell.execute_reply": "2024-10-24T17:17:23.438241Z"
    },
    "papermill": {
     "duration": 0.023511,
     "end_time": "2024-10-24T17:17:23.441693",
     "exception": false,
     "start_time": "2024-10-24T17:17:23.418182",
     "status": "completed"
    },
    "tags": []
   },
   "outputs": [
    {
     "data": {
      "text/plain": [
       "(8523, 12)"
      ]
     },
     "execution_count": 5,
     "metadata": {},
     "output_type": "execute_result"
    }
   ],
   "source": [
    "#  number of data points & data features\n",
    "df.shape"
   ]
  },
  {
   "cell_type": "code",
   "execution_count": 6,
   "id": "11aa5c9f",
   "metadata": {
    "execution": {
     "iopub.execute_input": "2024-10-24T17:17:23.467199Z",
     "iopub.status.busy": "2024-10-24T17:17:23.466749Z",
     "iopub.status.idle": "2024-10-24T17:17:23.497382Z",
     "shell.execute_reply": "2024-10-24T17:17:23.496081Z"
    },
    "papermill": {
     "duration": 0.046836,
     "end_time": "2024-10-24T17:17:23.500235",
     "exception": false,
     "start_time": "2024-10-24T17:17:23.453399",
     "status": "completed"
    },
    "tags": []
   },
   "outputs": [
    {
     "name": "stdout",
     "output_type": "stream",
     "text": [
      "<class 'pandas.core.frame.DataFrame'>\n",
      "RangeIndex: 8523 entries, 0 to 8522\n",
      "Data columns (total 12 columns):\n",
      " #   Column                     Non-Null Count  Dtype  \n",
      "---  ------                     --------------  -----  \n",
      " 0   Item_Identifier            8523 non-null   object \n",
      " 1   Item_Weight                7060 non-null   float64\n",
      " 2   Item_Fat_Content           8523 non-null   object \n",
      " 3   Item_Visibility            8523 non-null   float64\n",
      " 4   Item_Type                  8523 non-null   object \n",
      " 5   Item_MRP                   8523 non-null   float64\n",
      " 6   Outlet_Identifier          8523 non-null   object \n",
      " 7   Outlet_Establishment_Year  8523 non-null   int64  \n",
      " 8   Outlet_Size                6113 non-null   object \n",
      " 9   Outlet_Location_Type       8523 non-null   object \n",
      " 10  Outlet_Type                8523 non-null   object \n",
      " 11  Item_Outlet_Sales          8523 non-null   float64\n",
      "dtypes: float64(4), int64(1), object(7)\n",
      "memory usage: 799.2+ KB\n"
     ]
    }
   ],
   "source": [
    "# getting some informations about the dataset\n",
    "df.info()"
   ]
  },
  {
   "cell_type": "code",
   "execution_count": 7,
   "id": "abc13fe7",
   "metadata": {
    "execution": {
     "iopub.execute_input": "2024-10-24T17:17:23.525756Z",
     "iopub.status.busy": "2024-10-24T17:17:23.525335Z",
     "iopub.status.idle": "2024-10-24T17:17:23.538468Z",
     "shell.execute_reply": "2024-10-24T17:17:23.537017Z"
    },
    "papermill": {
     "duration": 0.028905,
     "end_time": "2024-10-24T17:17:23.541107",
     "exception": false,
     "start_time": "2024-10-24T17:17:23.512202",
     "status": "completed"
    },
    "tags": []
   },
   "outputs": [
    {
     "data": {
      "text/plain": [
       "Item_Identifier                 0\n",
       "Item_Weight                  1463\n",
       "Item_Fat_Content                0\n",
       "Item_Visibility                 0\n",
       "Item_Type                       0\n",
       "Item_MRP                        0\n",
       "Outlet_Identifier               0\n",
       "Outlet_Establishment_Year       0\n",
       "Outlet_Size                  2410\n",
       "Outlet_Location_Type            0\n",
       "Outlet_Type                     0\n",
       "Item_Outlet_Sales               0\n",
       "dtype: int64"
      ]
     },
     "execution_count": 7,
     "metadata": {},
     "output_type": "execute_result"
    }
   ],
   "source": [
    "#  checking the missing values\n",
    "df.isnull().sum()"
   ]
  },
  {
   "cell_type": "markdown",
   "id": "db35427f",
   "metadata": {
    "papermill": {
     "duration": 0.011178,
     "end_time": "2024-10-24T17:17:23.564569",
     "exception": false,
     "start_time": "2024-10-24T17:17:23.553391",
     "status": "completed"
    },
    "tags": []
   },
   "source": [
    "# Handling the missing values"
   ]
  },
  {
   "cell_type": "code",
   "execution_count": 8,
   "id": "0884938a",
   "metadata": {
    "execution": {
     "iopub.execute_input": "2024-10-24T17:17:23.589830Z",
     "iopub.status.busy": "2024-10-24T17:17:23.589403Z",
     "iopub.status.idle": "2024-10-24T17:17:23.596946Z",
     "shell.execute_reply": "2024-10-24T17:17:23.595709Z"
    },
    "papermill": {
     "duration": 0.022464,
     "end_time": "2024-10-24T17:17:23.599145",
     "exception": false,
     "start_time": "2024-10-24T17:17:23.576681",
     "status": "completed"
    },
    "tags": []
   },
   "outputs": [
    {
     "data": {
      "text/plain": [
       "12.857645184135976"
      ]
     },
     "execution_count": 8,
     "metadata": {},
     "output_type": "execute_result"
    }
   ],
   "source": [
    "# mean value of \"Item_Weight\" column\n",
    "df[\"Item_Weight\"].mean()"
   ]
  },
  {
   "cell_type": "code",
   "execution_count": 9,
   "id": "05cfcb00",
   "metadata": {
    "execution": {
     "iopub.execute_input": "2024-10-24T17:17:23.624614Z",
     "iopub.status.busy": "2024-10-24T17:17:23.623690Z",
     "iopub.status.idle": "2024-10-24T17:17:23.630430Z",
     "shell.execute_reply": "2024-10-24T17:17:23.629090Z"
    },
    "papermill": {
     "duration": 0.022207,
     "end_time": "2024-10-24T17:17:23.632848",
     "exception": false,
     "start_time": "2024-10-24T17:17:23.610641",
     "status": "completed"
    },
    "tags": []
   },
   "outputs": [],
   "source": [
    "#  fill the missing values in \"Item_Weight\" column with \"Mean\" value\n",
    "df[\"Item_Weight\"].fillna(df[\"Item_Weight\"].mean(),inplace = True )"
   ]
  },
  {
   "cell_type": "markdown",
   "id": "11215b19",
   "metadata": {
    "papermill": {
     "duration": 0.011311,
     "end_time": "2024-10-24T17:17:23.656072",
     "exception": false,
     "start_time": "2024-10-24T17:17:23.644761",
     "status": "completed"
    },
    "tags": []
   },
   "source": [
    "# Replace the missing values in \"Outlet_Size\" with Mode"
   ]
  },
  {
   "cell_type": "code",
   "execution_count": 10,
   "id": "302ce14b",
   "metadata": {
    "execution": {
     "iopub.execute_input": "2024-10-24T17:17:23.683259Z",
     "iopub.status.busy": "2024-10-24T17:17:23.682817Z",
     "iopub.status.idle": "2024-10-24T17:17:23.705485Z",
     "shell.execute_reply": "2024-10-24T17:17:23.704137Z"
    },
    "papermill": {
     "duration": 0.039045,
     "end_time": "2024-10-24T17:17:23.708398",
     "exception": false,
     "start_time": "2024-10-24T17:17:23.669353",
     "status": "completed"
    },
    "tags": []
   },
   "outputs": [],
   "source": [
    "mode_of_outlet_size = df.pivot_table(values = \"Outlet_Size\", columns = \"Outlet_Type\", aggfunc=(lambda x:x.mode()[0]))"
   ]
  },
  {
   "cell_type": "code",
   "execution_count": 11,
   "id": "0cca14e0",
   "metadata": {
    "execution": {
     "iopub.execute_input": "2024-10-24T17:17:23.733652Z",
     "iopub.status.busy": "2024-10-24T17:17:23.733223Z",
     "iopub.status.idle": "2024-10-24T17:17:23.746229Z",
     "shell.execute_reply": "2024-10-24T17:17:23.744569Z"
    },
    "papermill": {
     "duration": 0.028924,
     "end_time": "2024-10-24T17:17:23.748748",
     "exception": false,
     "start_time": "2024-10-24T17:17:23.719824",
     "status": "completed"
    },
    "tags": []
   },
   "outputs": [
    {
     "data": {
      "text/html": [
       "<div>\n",
       "<style scoped>\n",
       "    .dataframe tbody tr th:only-of-type {\n",
       "        vertical-align: middle;\n",
       "    }\n",
       "\n",
       "    .dataframe tbody tr th {\n",
       "        vertical-align: top;\n",
       "    }\n",
       "\n",
       "    .dataframe thead th {\n",
       "        text-align: right;\n",
       "    }\n",
       "</style>\n",
       "<table border=\"1\" class=\"dataframe\">\n",
       "  <thead>\n",
       "    <tr style=\"text-align: right;\">\n",
       "      <th>Outlet_Type</th>\n",
       "      <th>Grocery Store</th>\n",
       "      <th>Supermarket Type1</th>\n",
       "      <th>Supermarket Type2</th>\n",
       "      <th>Supermarket Type3</th>\n",
       "    </tr>\n",
       "  </thead>\n",
       "  <tbody>\n",
       "    <tr>\n",
       "      <th>Outlet_Size</th>\n",
       "      <td>Small</td>\n",
       "      <td>Small</td>\n",
       "      <td>Medium</td>\n",
       "      <td>Medium</td>\n",
       "    </tr>\n",
       "  </tbody>\n",
       "</table>\n",
       "</div>"
      ],
      "text/plain": [
       "Outlet_Type Grocery Store Supermarket Type1 Supermarket Type2  \\\n",
       "Outlet_Size         Small             Small            Medium   \n",
       "\n",
       "Outlet_Type Supermarket Type3  \n",
       "Outlet_Size            Medium  "
      ]
     },
     "execution_count": 11,
     "metadata": {},
     "output_type": "execute_result"
    }
   ],
   "source": [
    "mode_of_outlet_size"
   ]
  },
  {
   "cell_type": "code",
   "execution_count": 12,
   "id": "48cd2f36",
   "metadata": {
    "execution": {
     "iopub.execute_input": "2024-10-24T17:17:23.774718Z",
     "iopub.status.busy": "2024-10-24T17:17:23.774297Z",
     "iopub.status.idle": "2024-10-24T17:17:23.780425Z",
     "shell.execute_reply": "2024-10-24T17:17:23.779202Z"
    },
    "papermill": {
     "duration": 0.022451,
     "end_time": "2024-10-24T17:17:23.782951",
     "exception": false,
     "start_time": "2024-10-24T17:17:23.760500",
     "status": "completed"
    },
    "tags": []
   },
   "outputs": [],
   "source": [
    "missing_values = df[\"Outlet_Size\"].isnull()"
   ]
  },
  {
   "cell_type": "code",
   "execution_count": 13,
   "id": "fe46612d",
   "metadata": {
    "execution": {
     "iopub.execute_input": "2024-10-24T17:17:23.808730Z",
     "iopub.status.busy": "2024-10-24T17:17:23.808321Z",
     "iopub.status.idle": "2024-10-24T17:17:23.817302Z",
     "shell.execute_reply": "2024-10-24T17:17:23.816203Z"
    },
    "papermill": {
     "duration": 0.024112,
     "end_time": "2024-10-24T17:17:23.819430",
     "exception": false,
     "start_time": "2024-10-24T17:17:23.795318",
     "status": "completed"
    },
    "tags": []
   },
   "outputs": [
    {
     "data": {
      "text/plain": [
       "0       False\n",
       "1       False\n",
       "2       False\n",
       "3        True\n",
       "4       False\n",
       "        ...  \n",
       "8518    False\n",
       "8519     True\n",
       "8520    False\n",
       "8521    False\n",
       "8522    False\n",
       "Name: Outlet_Size, Length: 8523, dtype: bool"
      ]
     },
     "execution_count": 13,
     "metadata": {},
     "output_type": "execute_result"
    }
   ],
   "source": [
    "missing_values "
   ]
  },
  {
   "cell_type": "code",
   "execution_count": 14,
   "id": "ef881316",
   "metadata": {
    "execution": {
     "iopub.execute_input": "2024-10-24T17:17:23.845058Z",
     "iopub.status.busy": "2024-10-24T17:17:23.844609Z",
     "iopub.status.idle": "2024-10-24T17:17:23.853459Z",
     "shell.execute_reply": "2024-10-24T17:17:23.852465Z"
    },
    "papermill": {
     "duration": 0.024092,
     "end_time": "2024-10-24T17:17:23.855751",
     "exception": false,
     "start_time": "2024-10-24T17:17:23.831659",
     "status": "completed"
    },
    "tags": []
   },
   "outputs": [],
   "source": [
    "df.loc[missing_values,'Outlet_Size'] = df.loc[missing_values,'Outlet_Size'].apply(lambda x : mode_of_outlet_size)"
   ]
  },
  {
   "cell_type": "code",
   "execution_count": 15,
   "id": "0de3df5c",
   "metadata": {
    "execution": {
     "iopub.execute_input": "2024-10-24T17:17:23.880792Z",
     "iopub.status.busy": "2024-10-24T17:17:23.880385Z",
     "iopub.status.idle": "2024-10-24T17:17:23.892642Z",
     "shell.execute_reply": "2024-10-24T17:17:23.891510Z"
    },
    "papermill": {
     "duration": 0.027609,
     "end_time": "2024-10-24T17:17:23.895083",
     "exception": false,
     "start_time": "2024-10-24T17:17:23.867474",
     "status": "completed"
    },
    "tags": []
   },
   "outputs": [
    {
     "data": {
      "text/plain": [
       "Item_Identifier              0\n",
       "Item_Weight                  0\n",
       "Item_Fat_Content             0\n",
       "Item_Visibility              0\n",
       "Item_Type                    0\n",
       "Item_MRP                     0\n",
       "Outlet_Identifier            0\n",
       "Outlet_Establishment_Year    0\n",
       "Outlet_Size                  0\n",
       "Outlet_Location_Type         0\n",
       "Outlet_Type                  0\n",
       "Item_Outlet_Sales            0\n",
       "dtype: int64"
      ]
     },
     "execution_count": 15,
     "metadata": {},
     "output_type": "execute_result"
    }
   ],
   "source": [
    "# checking for missing value\n",
    "df.isnull().sum()"
   ]
  },
  {
   "cell_type": "markdown",
   "id": "5020931f",
   "metadata": {
    "papermill": {
     "duration": 0.011808,
     "end_time": "2024-10-24T17:17:23.919307",
     "exception": false,
     "start_time": "2024-10-24T17:17:23.907499",
     "status": "completed"
    },
    "tags": []
   },
   "source": [
    "# Data Analysis"
   ]
  },
  {
   "cell_type": "code",
   "execution_count": 16,
   "id": "00fc81a9",
   "metadata": {
    "execution": {
     "iopub.execute_input": "2024-10-24T17:17:23.944999Z",
     "iopub.status.busy": "2024-10-24T17:17:23.944524Z",
     "iopub.status.idle": "2024-10-24T17:17:23.973958Z",
     "shell.execute_reply": "2024-10-24T17:17:23.972722Z"
    },
    "papermill": {
     "duration": 0.04532,
     "end_time": "2024-10-24T17:17:23.976472",
     "exception": false,
     "start_time": "2024-10-24T17:17:23.931152",
     "status": "completed"
    },
    "tags": []
   },
   "outputs": [
    {
     "data": {
      "text/html": [
       "<div>\n",
       "<style scoped>\n",
       "    .dataframe tbody tr th:only-of-type {\n",
       "        vertical-align: middle;\n",
       "    }\n",
       "\n",
       "    .dataframe tbody tr th {\n",
       "        vertical-align: top;\n",
       "    }\n",
       "\n",
       "    .dataframe thead th {\n",
       "        text-align: right;\n",
       "    }\n",
       "</style>\n",
       "<table border=\"1\" class=\"dataframe\">\n",
       "  <thead>\n",
       "    <tr style=\"text-align: right;\">\n",
       "      <th></th>\n",
       "      <th>Item_Weight</th>\n",
       "      <th>Item_Visibility</th>\n",
       "      <th>Item_MRP</th>\n",
       "      <th>Outlet_Establishment_Year</th>\n",
       "      <th>Item_Outlet_Sales</th>\n",
       "    </tr>\n",
       "  </thead>\n",
       "  <tbody>\n",
       "    <tr>\n",
       "      <th>count</th>\n",
       "      <td>8523.000000</td>\n",
       "      <td>8523.000000</td>\n",
       "      <td>8523.000000</td>\n",
       "      <td>8523.000000</td>\n",
       "      <td>8523.000000</td>\n",
       "    </tr>\n",
       "    <tr>\n",
       "      <th>mean</th>\n",
       "      <td>12.857645</td>\n",
       "      <td>0.066132</td>\n",
       "      <td>140.992782</td>\n",
       "      <td>1997.831867</td>\n",
       "      <td>2181.288914</td>\n",
       "    </tr>\n",
       "    <tr>\n",
       "      <th>std</th>\n",
       "      <td>4.226124</td>\n",
       "      <td>0.051598</td>\n",
       "      <td>62.275067</td>\n",
       "      <td>8.371760</td>\n",
       "      <td>1706.499616</td>\n",
       "    </tr>\n",
       "    <tr>\n",
       "      <th>min</th>\n",
       "      <td>4.555000</td>\n",
       "      <td>0.000000</td>\n",
       "      <td>31.290000</td>\n",
       "      <td>1985.000000</td>\n",
       "      <td>33.290000</td>\n",
       "    </tr>\n",
       "    <tr>\n",
       "      <th>25%</th>\n",
       "      <td>9.310000</td>\n",
       "      <td>0.026989</td>\n",
       "      <td>93.826500</td>\n",
       "      <td>1987.000000</td>\n",
       "      <td>834.247400</td>\n",
       "    </tr>\n",
       "    <tr>\n",
       "      <th>50%</th>\n",
       "      <td>12.857645</td>\n",
       "      <td>0.053931</td>\n",
       "      <td>143.012800</td>\n",
       "      <td>1999.000000</td>\n",
       "      <td>1794.331000</td>\n",
       "    </tr>\n",
       "    <tr>\n",
       "      <th>75%</th>\n",
       "      <td>16.000000</td>\n",
       "      <td>0.094585</td>\n",
       "      <td>185.643700</td>\n",
       "      <td>2004.000000</td>\n",
       "      <td>3101.296400</td>\n",
       "    </tr>\n",
       "    <tr>\n",
       "      <th>max</th>\n",
       "      <td>21.350000</td>\n",
       "      <td>0.328391</td>\n",
       "      <td>266.888400</td>\n",
       "      <td>2009.000000</td>\n",
       "      <td>13086.964800</td>\n",
       "    </tr>\n",
       "  </tbody>\n",
       "</table>\n",
       "</div>"
      ],
      "text/plain": [
       "       Item_Weight  Item_Visibility     Item_MRP  Outlet_Establishment_Year  \\\n",
       "count  8523.000000      8523.000000  8523.000000                8523.000000   \n",
       "mean     12.857645         0.066132   140.992782                1997.831867   \n",
       "std       4.226124         0.051598    62.275067                   8.371760   \n",
       "min       4.555000         0.000000    31.290000                1985.000000   \n",
       "25%       9.310000         0.026989    93.826500                1987.000000   \n",
       "50%      12.857645         0.053931   143.012800                1999.000000   \n",
       "75%      16.000000         0.094585   185.643700                2004.000000   \n",
       "max      21.350000         0.328391   266.888400                2009.000000   \n",
       "\n",
       "       Item_Outlet_Sales  \n",
       "count        8523.000000  \n",
       "mean         2181.288914  \n",
       "std          1706.499616  \n",
       "min            33.290000  \n",
       "25%           834.247400  \n",
       "50%          1794.331000  \n",
       "75%          3101.296400  \n",
       "max         13086.964800  "
      ]
     },
     "execution_count": 16,
     "metadata": {},
     "output_type": "execute_result"
    }
   ],
   "source": [
    "df.describe()"
   ]
  },
  {
   "cell_type": "markdown",
   "id": "211debb4",
   "metadata": {
    "papermill": {
     "duration": 0.0118,
     "end_time": "2024-10-24T17:17:24.000445",
     "exception": false,
     "start_time": "2024-10-24T17:17:23.988645",
     "status": "completed"
    },
    "tags": []
   },
   "source": [
    "# Numerical Features"
   ]
  },
  {
   "cell_type": "code",
   "execution_count": 17,
   "id": "93a910f8",
   "metadata": {
    "execution": {
     "iopub.execute_input": "2024-10-24T17:17:24.026478Z",
     "iopub.status.busy": "2024-10-24T17:17:24.026061Z",
     "iopub.status.idle": "2024-10-24T17:17:24.032056Z",
     "shell.execute_reply": "2024-10-24T17:17:24.030979Z"
    },
    "papermill": {
     "duration": 0.021636,
     "end_time": "2024-10-24T17:17:24.034480",
     "exception": false,
     "start_time": "2024-10-24T17:17:24.012844",
     "status": "completed"
    },
    "tags": []
   },
   "outputs": [],
   "source": [
    "sns.set()"
   ]
  },
  {
   "cell_type": "code",
   "execution_count": 18,
   "id": "059ec591",
   "metadata": {
    "execution": {
     "iopub.execute_input": "2024-10-24T17:17:24.060908Z",
     "iopub.status.busy": "2024-10-24T17:17:24.060467Z",
     "iopub.status.idle": "2024-10-24T17:17:26.135185Z",
     "shell.execute_reply": "2024-10-24T17:17:26.133991Z"
    },
    "papermill": {
     "duration": 2.090314,
     "end_time": "2024-10-24T17:17:26.137476",
     "exception": false,
     "start_time": "2024-10-24T17:17:24.047162",
     "status": "completed"
    },
    "tags": []
   },
   "outputs": [
    {
     "data": {
      "image/png": "[encoded data removed]",
      "text/plain": [
       "<Figure size 1000x500 with 1 Axes>"
      ]
     },
     "metadata": {},
     "output_type": "display_data"
    },
    {
     "data": {
      "image/png": "[encoded data removed]",
      "text/plain": [
       "<Figure size 1000x500 with 1 Axes>"
      ]
     },
     "metadata": {},
     "output_type": "display_data"
    },
    {
     "data": {
      "image/png": "[encoded data removed]",
      "text/plain": [
       "<Figure size 1000x500 with 1 Axes>"
      ]
     },
     "metadata": {},
     "output_type": "display_data"
    },
    {
     "data": {
      "image/png": "[encoded data removed]",
      "text/plain": [
       "<Figure size 1000x500 with 1 Axes>"
      ]
     },
     "metadata": {},
     "output_type": "display_data"
    }
   ],
   "source": [
    "#Plot distplot for numerical columns\n",
    "cols = ['Item_Weight','Item_Visibility','Item_MRP','Item_Outlet_Sales']\n",
    "for col in cols:\n",
    "    plt.figure(figsize=(10,5))\n",
    "    sns.histplot(df[col], kde=True)  # kde=True adds the kernel density estimate (KDE)\n",
    "    plt.title(f'Distribution of {col}', fontsize=14)\n",
    "    plt.show()"
   ]
  },
  {
   "cell_type": "code",
   "execution_count": 19,
   "id": "f3be67cb",
   "metadata": {
    "execution": {
     "iopub.execute_input": "2024-10-24T17:17:26.174796Z",
     "iopub.status.busy": "2024-10-24T17:17:26.173023Z",
     "iopub.status.idle": "2024-10-24T17:17:26.523304Z",
     "shell.execute_reply": "2024-10-24T17:17:26.522122Z"
    },
    "papermill": {
     "duration": 0.372707,
     "end_time": "2024-10-24T17:17:26.525950",
     "exception": false,
     "start_time": "2024-10-24T17:17:26.153243",
     "status": "completed"
    },
    "tags": []
   },
   "outputs": [
    {
     "data": {
      "image/png": "[encoded data removed]",
      "text/plain": [
       "<Figure size 1000x500 with 1 Axes>"
      ]
     },
     "metadata": {},
     "output_type": "display_data"
    }
   ],
   "source": [
    "#Plot countplot for Outlet_Establishment_Year column\n",
    "plt.figure(figsize=(10,5))\n",
    "sns.countplot(x = \"Outlet_Establishment_Year\", data = df)\n",
    "plt.show()"
   ]
  },
  {
   "cell_type": "code",
   "execution_count": 20,
   "id": "f78e1b1d",
   "metadata": {
    "execution": {
     "iopub.execute_input": "2024-10-24T17:17:26.560201Z",
     "iopub.status.busy": "2024-10-24T17:17:26.559754Z",
     "iopub.status.idle": "2024-10-24T17:17:26.856130Z",
     "shell.execute_reply": "2024-10-24T17:17:26.854673Z"
    },
    "papermill": {
     "duration": 0.316888,
     "end_time": "2024-10-24T17:17:26.858996",
     "exception": false,
     "start_time": "2024-10-24T17:17:26.542108",
     "status": "completed"
    },
    "tags": []
   },
   "outputs": [
    {
     "data": {
      "image/png": "[encoded data removed]",
      "text/plain": [
       "<Figure size 1000x500 with 1 Axes>"
      ]
     },
     "metadata": {},
     "output_type": "display_data"
    }
   ],
   "source": [
    "#Plot countplot for Item_Fat_Content column\n",
    "plt.figure(figsize=(10,5))\n",
    "sns.countplot(x = \"Item_Fat_Content\",data = df)\n",
    "plt.show()"
   ]
  },
  {
   "cell_type": "code",
   "execution_count": 21,
   "id": "06d8e449",
   "metadata": {
    "execution": {
     "iopub.execute_input": "2024-10-24T17:17:26.892984Z",
     "iopub.status.busy": "2024-10-24T17:17:26.892523Z",
     "iopub.status.idle": "2024-10-24T17:17:27.453400Z",
     "shell.execute_reply": "2024-10-24T17:17:27.452050Z"
    },
    "papermill": {
     "duration": 0.581569,
     "end_time": "2024-10-24T17:17:27.456603",
     "exception": false,
     "start_time": "2024-10-24T17:17:26.875034",
     "status": "completed"
    },
    "tags": []
   },
   "outputs": [
    {
     "data": {
      "image/png": "[encoded data removed]",
      "text/plain": [
       "<Figure size 3000x1000 with 1 Axes>"
      ]
     },
     "metadata": {},
     "output_type": "display_data"
    }
   ],
   "source": [
    "#Plot countplot for Item_Type column\n",
    "plt.figure(figsize=(30,10))\n",
    "sns.countplot(x = \"Item_Type\",data = df)\n",
    "plt.show()"
   ]
  },
  {
   "cell_type": "code",
   "execution_count": 22,
   "id": "a691a051",
   "metadata": {
    "execution": {
     "iopub.execute_input": "2024-10-24T17:17:27.496486Z",
     "iopub.status.busy": "2024-10-24T17:17:27.496065Z",
     "iopub.status.idle": "2024-10-24T17:17:27.510042Z",
     "shell.execute_reply": "2024-10-24T17:17:27.507470Z"
    },
    "papermill": {
     "duration": 0.039011,
     "end_time": "2024-10-24T17:17:27.515208",
     "exception": false,
     "start_time": "2024-10-24T17:17:27.476197",
     "status": "completed"
    },
    "tags": []
   },
   "outputs": [
    {
     "name": "stdout",
     "output_type": "stream",
     "text": [
      "0                                               Medium\n",
      "1                                               Medium\n",
      "2                                               Medium\n",
      "3    Outlet_Type Grocery Store Supermarket Type1 Su...\n",
      "4                                                 High\n",
      "Name: Outlet_Size, dtype: object\n"
     ]
    }
   ],
   "source": [
    "print(df['Outlet_Size'].head())"
   ]
  },
  {
   "cell_type": "code",
   "execution_count": 23,
   "id": "958e14db",
   "metadata": {
    "execution": {
     "iopub.execute_input": "2024-10-24T17:17:27.566275Z",
     "iopub.status.busy": "2024-10-24T17:17:27.565349Z",
     "iopub.status.idle": "2024-10-24T17:17:27.610345Z",
     "shell.execute_reply": "2024-10-24T17:17:27.608685Z"
    },
    "papermill": {
     "duration": 0.07186,
     "end_time": "2024-10-24T17:17:27.613992",
     "exception": false,
     "start_time": "2024-10-24T17:17:27.542132",
     "status": "completed"
    },
    "tags": []
   },
   "outputs": [
    {
     "name": "stdout",
     "output_type": "stream",
     "text": [
      "     Item_Identifier  Item_Weight Item_Fat_Content  Item_Visibility  \\\n",
      "3              FDX07       19.200          Regular         0.000000   \n",
      "8              FDH17       16.200          Regular         0.016687   \n",
      "9              FDU28       19.200          Regular         0.094450   \n",
      "25             NCD06       13.000          Low Fat         0.099887   \n",
      "28             FDE51        5.925          Regular         0.161467   \n",
      "...              ...          ...              ...              ...   \n",
      "8502           NCH43        8.420          Low Fat         0.070712   \n",
      "8508           FDW31       11.350          Regular         0.043246   \n",
      "8509           FDG45        8.100          Low Fat         0.214306   \n",
      "8514           FDA01       15.000          Regular         0.054489   \n",
      "8519           FDS36        8.380          Regular         0.046982   \n",
      "\n",
      "                  Item_Type  Item_MRP Outlet_Identifier  \\\n",
      "3     Fruits and Vegetables  182.0950            OUT010   \n",
      "8              Frozen Foods   96.9726            OUT045   \n",
      "9              Frozen Foods  187.8214            OUT017   \n",
      "25                Household   45.9060            OUT017   \n",
      "28                    Dairy   45.5086            OUT010   \n",
      "...                     ...       ...               ...   \n",
      "8502              Household  216.4192            OUT045   \n",
      "8508  Fruits and Vegetables  199.4742            OUT045   \n",
      "8509  Fruits and Vegetables  213.9902            OUT010   \n",
      "8514                 Canned   57.5904            OUT045   \n",
      "8519           Baking Goods  108.1570            OUT045   \n",
      "\n",
      "      Outlet_Establishment_Year  \\\n",
      "3                          1998   \n",
      "8                          2002   \n",
      "9                          2007   \n",
      "25                         2007   \n",
      "28                         1998   \n",
      "...                         ...   \n",
      "8502                       2002   \n",
      "8508                       2002   \n",
      "8509                       1998   \n",
      "8514                       2002   \n",
      "8519                       2002   \n",
      "\n",
      "                                            Outlet_Size Outlet_Location_Type  \\\n",
      "3     Outlet_Type Grocery Store Supermarket Type1 Su...               Tier 3   \n",
      "8     Outlet_Type Grocery Store Supermarket Type1 Su...               Tier 2   \n",
      "9     Outlet_Type Grocery Store Supermarket Type1 Su...               Tier 2   \n",
      "25    Outlet_Type Grocery Store Supermarket Type1 Su...               Tier 2   \n",
      "28    Outlet_Type Grocery Store Supermarket Type1 Su...               Tier 3   \n",
      "...                                                 ...                  ...   \n",
      "8502  Outlet_Type Grocery Store Supermarket Type1 Su...               Tier 2   \n",
      "8508  Outlet_Type Grocery Store Supermarket Type1 Su...               Tier 2   \n",
      "8509  Outlet_Type Grocery Store Supermarket Type1 Su...               Tier 3   \n",
      "8514  Outlet_Type Grocery Store Supermarket Type1 Su...               Tier 2   \n",
      "8519  Outlet_Type Grocery Store Supermarket Type1 Su...               Tier 2   \n",
      "\n",
      "            Outlet_Type  Item_Outlet_Sales  \n",
      "3         Grocery Store           732.3800  \n",
      "8     Supermarket Type1          1076.5986  \n",
      "9     Supermarket Type1          4710.5350  \n",
      "25    Supermarket Type1           838.9080  \n",
      "28        Grocery Store           178.4344  \n",
      "...                 ...                ...  \n",
      "8502  Supermarket Type1          3020.0688  \n",
      "8508  Supermarket Type1          2587.9646  \n",
      "8509      Grocery Store           424.7804  \n",
      "8514  Supermarket Type1           468.7232  \n",
      "8519  Supermarket Type1           549.2850  \n",
      "\n",
      "[2410 rows x 12 columns]\n"
     ]
    }
   ],
   "source": [
    "# Check for rows where Outlet_Size contains non-string or non-categorical data\n",
    "nested_rows = df[df['Outlet_Size'].apply(lambda x: isinstance(x, (list, pd.DataFrame)))]\n",
    "print(nested_rows)"
   ]
  },
  {
   "cell_type": "code",
   "execution_count": 24,
   "id": "3dd78512",
   "metadata": {
    "execution": {
     "iopub.execute_input": "2024-10-24T17:17:27.668670Z",
     "iopub.status.busy": "2024-10-24T17:17:27.668131Z",
     "iopub.status.idle": "2024-10-24T17:17:27.684066Z",
     "shell.execute_reply": "2024-10-24T17:17:27.682635Z"
    },
    "papermill": {
     "duration": 0.049442,
     "end_time": "2024-10-24T17:17:27.687342",
     "exception": false,
     "start_time": "2024-10-24T17:17:27.637900",
     "status": "completed"
    },
    "tags": []
   },
   "outputs": [],
   "source": [
    "# Remove rows where Outlet_Size contains non-string/non-categorical data\n",
    "df = df[~df['Outlet_Size'].apply(lambda x: isinstance(x, (list, pd.DataFrame)))]"
   ]
  },
  {
   "cell_type": "code",
   "execution_count": 25,
   "id": "1e2a3b12",
   "metadata": {
    "execution": {
     "iopub.execute_input": "2024-10-24T17:17:27.726794Z",
     "iopub.status.busy": "2024-10-24T17:17:27.726261Z",
     "iopub.status.idle": "2024-10-24T17:17:27.739394Z",
     "shell.execute_reply": "2024-10-24T17:17:27.738056Z"
    },
    "papermill": {
     "duration": 0.036136,
     "end_time": "2024-10-24T17:17:27.742298",
     "exception": false,
     "start_time": "2024-10-24T17:17:27.706162",
     "status": "completed"
    },
    "tags": []
   },
   "outputs": [],
   "source": [
    "df['Outlet_Size'] = df['Outlet_Size'].apply(lambda x: 'Unknown' if isinstance(x, (list, pd.DataFrame)) else x)"
   ]
  },
  {
   "cell_type": "code",
   "execution_count": 26,
   "id": "f7959ffa",
   "metadata": {
    "execution": {
     "iopub.execute_input": "2024-10-24T17:17:27.788558Z",
     "iopub.status.busy": "2024-10-24T17:17:27.788033Z",
     "iopub.status.idle": "2024-10-24T17:17:27.796700Z",
     "shell.execute_reply": "2024-10-24T17:17:27.795342Z"
    },
    "papermill": {
     "duration": 0.035452,
     "end_time": "2024-10-24T17:17:27.799487",
     "exception": false,
     "start_time": "2024-10-24T17:17:27.764035",
     "status": "completed"
    },
    "tags": []
   },
   "outputs": [],
   "source": [
    "df['Outlet_Size'] = df['Outlet_Size'].astype('category')"
   ]
  },
  {
   "cell_type": "code",
   "execution_count": 27,
   "id": "98b3d60e",
   "metadata": {
    "execution": {
     "iopub.execute_input": "2024-10-24T17:17:27.835954Z",
     "iopub.status.busy": "2024-10-24T17:17:27.835392Z",
     "iopub.status.idle": "2024-10-24T17:17:28.234086Z",
     "shell.execute_reply": "2024-10-24T17:17:28.232966Z"
    },
    "papermill": {
     "duration": 0.420087,
     "end_time": "2024-10-24T17:17:28.236903",
     "exception": false,
     "start_time": "2024-10-24T17:17:27.816816",
     "status": "completed"
    },
    "tags": []
   },
   "outputs": [
    {
     "data": {
      "image/png": "[encoded data removed]",
      "text/plain": [
       "<Figure size 1000x500 with 1 Axes>"
      ]
     },
     "metadata": {},
     "output_type": "display_data"
    }
   ],
   "source": [
    "import seaborn as sns\n",
    "import matplotlib.pyplot as plt\n",
    "\n",
    "plt.figure(figsize=(10,5))\n",
    "sns.countplot(x=\"Outlet_Size\", data=df)\n",
    "plt.title('Count of Outlet Sizes')\n",
    "plt.show()"
   ]
  },
  {
   "cell_type": "code",
   "execution_count": 28,
   "id": "8d34f5e5",
   "metadata": {
    "execution": {
     "iopub.execute_input": "2024-10-24T17:17:28.272480Z",
     "iopub.status.busy": "2024-10-24T17:17:28.272071Z",
     "iopub.status.idle": "2024-10-24T17:17:28.534079Z",
     "shell.execute_reply": "2024-10-24T17:17:28.532662Z"
    },
    "papermill": {
     "duration": 0.283136,
     "end_time": "2024-10-24T17:17:28.536960",
     "exception": false,
     "start_time": "2024-10-24T17:17:28.253824",
     "status": "completed"
    },
    "tags": []
   },
   "outputs": [
    {
     "data": {
      "image/png": "[encoded data removed]",
      "text/plain": [
       "<Figure size 1000x500 with 1 Axes>"
      ]
     },
     "metadata": {},
     "output_type": "display_data"
    }
   ],
   "source": [
    "#Plot countplot for Outlet_Type column\n",
    "plt.figure(figsize=(10,5))\n",
    "sns.countplot(x= \"Outlet_Type\" , data=df)\n",
    "plt.show()"
   ]
  },
  {
   "cell_type": "code",
   "execution_count": 29,
   "id": "38316e1e",
   "metadata": {
    "execution": {
     "iopub.execute_input": "2024-10-24T17:17:28.575129Z",
     "iopub.status.busy": "2024-10-24T17:17:28.573817Z",
     "iopub.status.idle": "2024-10-24T17:17:28.585436Z",
     "shell.execute_reply": "2024-10-24T17:17:28.584107Z"
    },
    "papermill": {
     "duration": 0.033267,
     "end_time": "2024-10-24T17:17:28.588018",
     "exception": false,
     "start_time": "2024-10-24T17:17:28.554751",
     "status": "completed"
    },
    "tags": []
   },
   "outputs": [
    {
     "data": {
      "text/plain": [
       "Item_Fat_Content\n",
       "Low Fat    3641\n",
       "Regular    2076\n",
       "LF          233\n",
       "reg          82\n",
       "low fat      81\n",
       "Name: count, dtype: int64"
      ]
     },
     "execution_count": 29,
     "metadata": {},
     "output_type": "execute_result"
    }
   ],
   "source": [
    "#see categories in Item_Fat_Content column\n",
    "df['Item_Fat_Content'].value_counts()"
   ]
  },
  {
   "cell_type": "code",
   "execution_count": 30,
   "id": "5b1ba1fe",
   "metadata": {
    "execution": {
     "iopub.execute_input": "2024-10-24T17:17:28.625784Z",
     "iopub.status.busy": "2024-10-24T17:17:28.624761Z",
     "iopub.status.idle": "2024-10-24T17:17:28.633032Z",
     "shell.execute_reply": "2024-10-24T17:17:28.631942Z"
    },
    "papermill": {
     "duration": 0.029974,
     "end_time": "2024-10-24T17:17:28.635509",
     "exception": false,
     "start_time": "2024-10-24T17:17:28.605535",
     "status": "completed"
    },
    "tags": []
   },
   "outputs": [],
   "source": [
    "#handle Item_Fat_Content column categories with replacement\n",
    "df['Item_Fat_Content'].replace({'LF':'Low Fat','reg':'Regular','low fat':'Low Fat'},inplace=True)"
   ]
  },
  {
   "cell_type": "code",
   "execution_count": 31,
   "id": "a9766243",
   "metadata": {
    "execution": {
     "iopub.execute_input": "2024-10-24T17:17:28.676233Z",
     "iopub.status.busy": "2024-10-24T17:17:28.675662Z",
     "iopub.status.idle": "2024-10-24T17:17:28.687305Z",
     "shell.execute_reply": "2024-10-24T17:17:28.686002Z"
    },
    "papermill": {
     "duration": 0.034168,
     "end_time": "2024-10-24T17:17:28.689976",
     "exception": false,
     "start_time": "2024-10-24T17:17:28.655808",
     "status": "completed"
    },
    "tags": []
   },
   "outputs": [
    {
     "data": {
      "text/plain": [
       "Item_Fat_Content\n",
       "Low Fat    3955\n",
       "Regular    2158\n",
       "Name: count, dtype: int64"
      ]
     },
     "execution_count": 31,
     "metadata": {},
     "output_type": "execute_result"
    }
   ],
   "source": [
    "df['Item_Fat_Content'].value_counts()"
   ]
  },
  {
   "cell_type": "code",
   "execution_count": 32,
   "id": "631dce2a",
   "metadata": {
    "execution": {
     "iopub.execute_input": "2024-10-24T17:17:28.729565Z",
     "iopub.status.busy": "2024-10-24T17:17:28.728852Z",
     "iopub.status.idle": "2024-10-24T17:17:28.753597Z",
     "shell.execute_reply": "2024-10-24T17:17:28.752234Z"
    },
    "papermill": {
     "duration": 0.046531,
     "end_time": "2024-10-24T17:17:28.756087",
     "exception": false,
     "start_time": "2024-10-24T17:17:28.709556",
     "status": "completed"
    },
    "tags": []
   },
   "outputs": [
    {
     "data": {
      "text/html": [
       "<div>\n",
       "<style scoped>\n",
       "    .dataframe tbody tr th:only-of-type {\n",
       "        vertical-align: middle;\n",
       "    }\n",
       "\n",
       "    .dataframe tbody tr th {\n",
       "        vertical-align: top;\n",
       "    }\n",
       "\n",
       "    .dataframe thead th {\n",
       "        text-align: right;\n",
       "    }\n",
       "</style>\n",
       "<table border=\"1\" class=\"dataframe\">\n",
       "  <thead>\n",
       "    <tr style=\"text-align: right;\">\n",
       "      <th></th>\n",
       "      <th>Item_Identifier</th>\n",
       "      <th>Item_Weight</th>\n",
       "      <th>Item_Fat_Content</th>\n",
       "      <th>Item_Visibility</th>\n",
       "      <th>Item_Type</th>\n",
       "      <th>Item_MRP</th>\n",
       "      <th>Outlet_Identifier</th>\n",
       "      <th>Outlet_Establishment_Year</th>\n",
       "      <th>Outlet_Size</th>\n",
       "      <th>Outlet_Location_Type</th>\n",
       "      <th>Outlet_Type</th>\n",
       "      <th>Item_Outlet_Sales</th>\n",
       "    </tr>\n",
       "  </thead>\n",
       "  <tbody>\n",
       "    <tr>\n",
       "      <th>0</th>\n",
       "      <td>FDA15</td>\n",
       "      <td>9.300</td>\n",
       "      <td>Low Fat</td>\n",
       "      <td>0.016047</td>\n",
       "      <td>Dairy</td>\n",
       "      <td>249.8092</td>\n",
       "      <td>OUT049</td>\n",
       "      <td>1999</td>\n",
       "      <td>Medium</td>\n",
       "      <td>Tier 1</td>\n",
       "      <td>Supermarket Type1</td>\n",
       "      <td>3735.1380</td>\n",
       "    </tr>\n",
       "    <tr>\n",
       "      <th>1</th>\n",
       "      <td>DRC01</td>\n",
       "      <td>5.920</td>\n",
       "      <td>Regular</td>\n",
       "      <td>0.019278</td>\n",
       "      <td>Soft Drinks</td>\n",
       "      <td>48.2692</td>\n",
       "      <td>OUT018</td>\n",
       "      <td>2009</td>\n",
       "      <td>Medium</td>\n",
       "      <td>Tier 3</td>\n",
       "      <td>Supermarket Type2</td>\n",
       "      <td>443.4228</td>\n",
       "    </tr>\n",
       "    <tr>\n",
       "      <th>2</th>\n",
       "      <td>FDN15</td>\n",
       "      <td>17.500</td>\n",
       "      <td>Low Fat</td>\n",
       "      <td>0.016760</td>\n",
       "      <td>Meat</td>\n",
       "      <td>141.6180</td>\n",
       "      <td>OUT049</td>\n",
       "      <td>1999</td>\n",
       "      <td>Medium</td>\n",
       "      <td>Tier 1</td>\n",
       "      <td>Supermarket Type1</td>\n",
       "      <td>2097.2700</td>\n",
       "    </tr>\n",
       "    <tr>\n",
       "      <th>4</th>\n",
       "      <td>NCD19</td>\n",
       "      <td>8.930</td>\n",
       "      <td>Low Fat</td>\n",
       "      <td>0.000000</td>\n",
       "      <td>Household</td>\n",
       "      <td>53.8614</td>\n",
       "      <td>OUT013</td>\n",
       "      <td>1987</td>\n",
       "      <td>High</td>\n",
       "      <td>Tier 3</td>\n",
       "      <td>Supermarket Type1</td>\n",
       "      <td>994.7052</td>\n",
       "    </tr>\n",
       "    <tr>\n",
       "      <th>5</th>\n",
       "      <td>FDP36</td>\n",
       "      <td>10.395</td>\n",
       "      <td>Regular</td>\n",
       "      <td>0.000000</td>\n",
       "      <td>Baking Goods</td>\n",
       "      <td>51.4008</td>\n",
       "      <td>OUT018</td>\n",
       "      <td>2009</td>\n",
       "      <td>Medium</td>\n",
       "      <td>Tier 3</td>\n",
       "      <td>Supermarket Type2</td>\n",
       "      <td>556.6088</td>\n",
       "    </tr>\n",
       "  </tbody>\n",
       "</table>\n",
       "</div>"
      ],
      "text/plain": [
       "  Item_Identifier  Item_Weight Item_Fat_Content  Item_Visibility  \\\n",
       "0           FDA15        9.300          Low Fat         0.016047   \n",
       "1           DRC01        5.920          Regular         0.019278   \n",
       "2           FDN15       17.500          Low Fat         0.016760   \n",
       "4           NCD19        8.930          Low Fat         0.000000   \n",
       "5           FDP36       10.395          Regular         0.000000   \n",
       "\n",
       "      Item_Type  Item_MRP Outlet_Identifier  Outlet_Establishment_Year  \\\n",
       "0         Dairy  249.8092            OUT049                       1999   \n",
       "1   Soft Drinks   48.2692            OUT018                       2009   \n",
       "2          Meat  141.6180            OUT049                       1999   \n",
       "4     Household   53.8614            OUT013                       1987   \n",
       "5  Baking Goods   51.4008            OUT018                       2009   \n",
       "\n",
       "  Outlet_Size Outlet_Location_Type        Outlet_Type  Item_Outlet_Sales  \n",
       "0      Medium               Tier 1  Supermarket Type1          3735.1380  \n",
       "1      Medium               Tier 3  Supermarket Type2           443.4228  \n",
       "2      Medium               Tier 1  Supermarket Type1          2097.2700  \n",
       "4        High               Tier 3  Supermarket Type1           994.7052  \n",
       "5      Medium               Tier 3  Supermarket Type2           556.6088  "
      ]
     },
     "execution_count": 32,
     "metadata": {},
     "output_type": "execute_result"
    }
   ],
   "source": [
    "df.head()"
   ]
  },
  {
   "cell_type": "markdown",
   "id": "9bd15420",
   "metadata": {
    "papermill": {
     "duration": 0.017528,
     "end_time": "2024-10-24T17:17:28.792232",
     "exception": false,
     "start_time": "2024-10-24T17:17:28.774704",
     "status": "completed"
    },
    "tags": []
   },
   "source": [
    "# Handle Categorical Features"
   ]
  },
  {
   "cell_type": "code",
   "execution_count": 33,
   "id": "2e111978",
   "metadata": {
    "execution": {
     "iopub.execute_input": "2024-10-24T17:17:28.830678Z",
     "iopub.status.busy": "2024-10-24T17:17:28.829623Z",
     "iopub.status.idle": "2024-10-24T17:17:28.859691Z",
     "shell.execute_reply": "2024-10-24T17:17:28.858486Z"
    },
    "papermill": {
     "duration": 0.051621,
     "end_time": "2024-10-24T17:17:28.862053",
     "exception": false,
     "start_time": "2024-10-24T17:17:28.810432",
     "status": "completed"
    },
    "tags": []
   },
   "outputs": [],
   "source": [
    "encode = LabelEncoder()\n",
    "\n",
    "df[\"Item_Identifier\"] = encode.fit_transform(df[\"Item_Identifier\"])\n",
    "\n",
    "df[\"Item_Fat_Content\"] = encode.fit_transform(df[\"Item_Fat_Content\"])\n",
    "\n",
    "df[\"Item_Type\"] = encode.fit_transform(df[\"Item_Type\"])\n",
    "\n",
    "df[\"Outlet_Identifier\"] = encode.fit_transform(df[\"Outlet_Identifier\"])\n",
    "\n",
    "df[\"Outlet_Size\"] = encode.fit_transform(df[\"Outlet_Size\"])\n",
    "\n",
    "df[\"Outlet_Location_Type\"] = encode.fit_transform(df[\"Outlet_Location_Type\"])\n",
    "\n",
    "df[\"Outlet_Type\"] = encode.fit_transform(df[\"Outlet_Type\"])\n",
    "\n"
   ]
  },
  {
   "cell_type": "code",
   "execution_count": 34,
   "id": "7426148e",
   "metadata": {
    "execution": {
     "iopub.execute_input": "2024-10-24T17:17:28.900849Z",
     "iopub.status.busy": "2024-10-24T17:17:28.899776Z",
     "iopub.status.idle": "2024-10-24T17:17:28.919425Z",
     "shell.execute_reply": "2024-10-24T17:17:28.918203Z"
    },
    "papermill": {
     "duration": 0.041471,
     "end_time": "2024-10-24T17:17:28.921769",
     "exception": false,
     "start_time": "2024-10-24T17:17:28.880298",
     "status": "completed"
    },
    "tags": []
   },
   "outputs": [
    {
     "data": {
      "text/html": [
       "<div>\n",
       "<style scoped>\n",
       "    .dataframe tbody tr th:only-of-type {\n",
       "        vertical-align: middle;\n",
       "    }\n",
       "\n",
       "    .dataframe tbody tr th {\n",
       "        vertical-align: top;\n",
       "    }\n",
       "\n",
       "    .dataframe thead th {\n",
       "        text-align: right;\n",
       "    }\n",
       "</style>\n",
       "<table border=\"1\" class=\"dataframe\">\n",
       "  <thead>\n",
       "    <tr style=\"text-align: right;\">\n",
       "      <th></th>\n",
       "      <th>Item_Identifier</th>\n",
       "      <th>Item_Weight</th>\n",
       "      <th>Item_Fat_Content</th>\n",
       "      <th>Item_Visibility</th>\n",
       "      <th>Item_Type</th>\n",
       "      <th>Item_MRP</th>\n",
       "      <th>Outlet_Identifier</th>\n",
       "      <th>Outlet_Establishment_Year</th>\n",
       "      <th>Outlet_Size</th>\n",
       "      <th>Outlet_Location_Type</th>\n",
       "      <th>Outlet_Type</th>\n",
       "      <th>Item_Outlet_Sales</th>\n",
       "    </tr>\n",
       "  </thead>\n",
       "  <tbody>\n",
       "    <tr>\n",
       "      <th>0</th>\n",
       "      <td>155</td>\n",
       "      <td>9.300</td>\n",
       "      <td>0</td>\n",
       "      <td>0.016047</td>\n",
       "      <td>4</td>\n",
       "      <td>249.8092</td>\n",
       "      <td>6</td>\n",
       "      <td>1999</td>\n",
       "      <td>1</td>\n",
       "      <td>0</td>\n",
       "      <td>1</td>\n",
       "      <td>3735.1380</td>\n",
       "    </tr>\n",
       "    <tr>\n",
       "      <th>1</th>\n",
       "      <td>8</td>\n",
       "      <td>5.920</td>\n",
       "      <td>1</td>\n",
       "      <td>0.019278</td>\n",
       "      <td>14</td>\n",
       "      <td>48.2692</td>\n",
       "      <td>1</td>\n",
       "      <td>2009</td>\n",
       "      <td>1</td>\n",
       "      <td>2</td>\n",
       "      <td>2</td>\n",
       "      <td>443.4228</td>\n",
       "    </tr>\n",
       "    <tr>\n",
       "      <th>2</th>\n",
       "      <td>661</td>\n",
       "      <td>17.500</td>\n",
       "      <td>0</td>\n",
       "      <td>0.016760</td>\n",
       "      <td>10</td>\n",
       "      <td>141.6180</td>\n",
       "      <td>6</td>\n",
       "      <td>1999</td>\n",
       "      <td>1</td>\n",
       "      <td>0</td>\n",
       "      <td>1</td>\n",
       "      <td>2097.2700</td>\n",
       "    </tr>\n",
       "    <tr>\n",
       "      <th>4</th>\n",
       "      <td>1294</td>\n",
       "      <td>8.930</td>\n",
       "      <td>0</td>\n",
       "      <td>0.000000</td>\n",
       "      <td>9</td>\n",
       "      <td>53.8614</td>\n",
       "      <td>0</td>\n",
       "      <td>1987</td>\n",
       "      <td>0</td>\n",
       "      <td>2</td>\n",
       "      <td>1</td>\n",
       "      <td>994.7052</td>\n",
       "    </tr>\n",
       "    <tr>\n",
       "      <th>5</th>\n",
       "      <td>757</td>\n",
       "      <td>10.395</td>\n",
       "      <td>1</td>\n",
       "      <td>0.000000</td>\n",
       "      <td>0</td>\n",
       "      <td>51.4008</td>\n",
       "      <td>1</td>\n",
       "      <td>2009</td>\n",
       "      <td>1</td>\n",
       "      <td>2</td>\n",
       "      <td>2</td>\n",
       "      <td>556.6088</td>\n",
       "    </tr>\n",
       "  </tbody>\n",
       "</table>\n",
       "</div>"
      ],
      "text/plain": [
       "   Item_Identifier  Item_Weight  Item_Fat_Content  Item_Visibility  Item_Type  \\\n",
       "0              155        9.300                 0         0.016047          4   \n",
       "1                8        5.920                 1         0.019278         14   \n",
       "2              661       17.500                 0         0.016760         10   \n",
       "4             1294        8.930                 0         0.000000          9   \n",
       "5              757       10.395                 1         0.000000          0   \n",
       "\n",
       "   Item_MRP  Outlet_Identifier  Outlet_Establishment_Year  Outlet_Size  \\\n",
       "0  249.8092                  6                       1999            1   \n",
       "1   48.2692                  1                       2009            1   \n",
       "2  141.6180                  6                       1999            1   \n",
       "4   53.8614                  0                       1987            0   \n",
       "5   51.4008                  1                       2009            1   \n",
       "\n",
       "   Outlet_Location_Type  Outlet_Type  Item_Outlet_Sales  \n",
       "0                     0            1          3735.1380  \n",
       "1                     2            2           443.4228  \n",
       "2                     0            1          2097.2700  \n",
       "4                     2            1           994.7052  \n",
       "5                     2            2           556.6088  "
      ]
     },
     "execution_count": 34,
     "metadata": {},
     "output_type": "execute_result"
    }
   ],
   "source": [
    "df.head()"
   ]
  },
  {
   "cell_type": "markdown",
   "id": "b814c0a9",
   "metadata": {
    "papermill": {
     "duration": 0.01779,
     "end_time": "2024-10-24T17:17:28.957819",
     "exception": false,
     "start_time": "2024-10-24T17:17:28.940029",
     "status": "completed"
    },
    "tags": []
   },
   "source": [
    "# Splitting features and target"
   ]
  },
  {
   "cell_type": "code",
   "execution_count": 35,
   "id": "4d64a4e2",
   "metadata": {
    "execution": {
     "iopub.execute_input": "2024-10-24T17:17:28.996548Z",
     "iopub.status.busy": "2024-10-24T17:17:28.996061Z",
     "iopub.status.idle": "2024-10-24T17:17:29.003788Z",
     "shell.execute_reply": "2024-10-24T17:17:29.002749Z"
    },
    "papermill": {
     "duration": 0.030305,
     "end_time": "2024-10-24T17:17:29.006410",
     "exception": false,
     "start_time": "2024-10-24T17:17:28.976105",
     "status": "completed"
    },
    "tags": []
   },
   "outputs": [],
   "source": [
    "x = df.drop(columns = [\"Item_Outlet_Sales\"],axis = 1)\n",
    "y = df[\"Item_Outlet_Sales\"]"
   ]
  },
  {
   "cell_type": "code",
   "execution_count": 36,
   "id": "4ba875b5",
   "metadata": {
    "execution": {
     "iopub.execute_input": "2024-10-24T17:17:29.048838Z",
     "iopub.status.busy": "2024-10-24T17:17:29.047918Z",
     "iopub.status.idle": "2024-10-24T17:17:29.069932Z",
     "shell.execute_reply": "2024-10-24T17:17:29.068807Z"
    },
    "papermill": {
     "duration": 0.044186,
     "end_time": "2024-10-24T17:17:29.072518",
     "exception": false,
     "start_time": "2024-10-24T17:17:29.028332",
     "status": "completed"
    },
    "tags": []
   },
   "outputs": [
    {
     "data": {
      "text/html": [
       "<div>\n",
       "<style scoped>\n",
       "    .dataframe tbody tr th:only-of-type {\n",
       "        vertical-align: middle;\n",
       "    }\n",
       "\n",
       "    .dataframe tbody tr th {\n",
       "        vertical-align: top;\n",
       "    }\n",
       "\n",
       "    .dataframe thead th {\n",
       "        text-align: right;\n",
       "    }\n",
       "</style>\n",
       "<table border=\"1\" class=\"dataframe\">\n",
       "  <thead>\n",
       "    <tr style=\"text-align: right;\">\n",
       "      <th></th>\n",
       "      <th>Item_Identifier</th>\n",
       "      <th>Item_Weight</th>\n",
       "      <th>Item_Fat_Content</th>\n",
       "      <th>Item_Visibility</th>\n",
       "      <th>Item_Type</th>\n",
       "      <th>Item_MRP</th>\n",
       "      <th>Outlet_Identifier</th>\n",
       "      <th>Outlet_Establishment_Year</th>\n",
       "      <th>Outlet_Size</th>\n",
       "      <th>Outlet_Location_Type</th>\n",
       "      <th>Outlet_Type</th>\n",
       "    </tr>\n",
       "  </thead>\n",
       "  <tbody>\n",
       "    <tr>\n",
       "      <th>0</th>\n",
       "      <td>155</td>\n",
       "      <td>9.300</td>\n",
       "      <td>0</td>\n",
       "      <td>0.016047</td>\n",
       "      <td>4</td>\n",
       "      <td>249.8092</td>\n",
       "      <td>6</td>\n",
       "      <td>1999</td>\n",
       "      <td>1</td>\n",
       "      <td>0</td>\n",
       "      <td>1</td>\n",
       "    </tr>\n",
       "    <tr>\n",
       "      <th>1</th>\n",
       "      <td>8</td>\n",
       "      <td>5.920</td>\n",
       "      <td>1</td>\n",
       "      <td>0.019278</td>\n",
       "      <td>14</td>\n",
       "      <td>48.2692</td>\n",
       "      <td>1</td>\n",
       "      <td>2009</td>\n",
       "      <td>1</td>\n",
       "      <td>2</td>\n",
       "      <td>2</td>\n",
       "    </tr>\n",
       "    <tr>\n",
       "      <th>2</th>\n",
       "      <td>661</td>\n",
       "      <td>17.500</td>\n",
       "      <td>0</td>\n",
       "      <td>0.016760</td>\n",
       "      <td>10</td>\n",
       "      <td>141.6180</td>\n",
       "      <td>6</td>\n",
       "      <td>1999</td>\n",
       "      <td>1</td>\n",
       "      <td>0</td>\n",
       "      <td>1</td>\n",
       "    </tr>\n",
       "    <tr>\n",
       "      <th>4</th>\n",
       "      <td>1294</td>\n",
       "      <td>8.930</td>\n",
       "      <td>0</td>\n",
       "      <td>0.000000</td>\n",
       "      <td>9</td>\n",
       "      <td>53.8614</td>\n",
       "      <td>0</td>\n",
       "      <td>1987</td>\n",
       "      <td>0</td>\n",
       "      <td>2</td>\n",
       "      <td>1</td>\n",
       "    </tr>\n",
       "    <tr>\n",
       "      <th>5</th>\n",
       "      <td>757</td>\n",
       "      <td>10.395</td>\n",
       "      <td>1</td>\n",
       "      <td>0.000000</td>\n",
       "      <td>0</td>\n",
       "      <td>51.4008</td>\n",
       "      <td>1</td>\n",
       "      <td>2009</td>\n",
       "      <td>1</td>\n",
       "      <td>2</td>\n",
       "      <td>2</td>\n",
       "    </tr>\n",
       "    <tr>\n",
       "      <th>...</th>\n",
       "      <td>...</td>\n",
       "      <td>...</td>\n",
       "      <td>...</td>\n",
       "      <td>...</td>\n",
       "      <td>...</td>\n",
       "      <td>...</td>\n",
       "      <td>...</td>\n",
       "      <td>...</td>\n",
       "      <td>...</td>\n",
       "      <td>...</td>\n",
       "      <td>...</td>\n",
       "    </tr>\n",
       "    <tr>\n",
       "      <th>8517</th>\n",
       "      <td>388</td>\n",
       "      <td>20.750</td>\n",
       "      <td>1</td>\n",
       "      <td>0.083607</td>\n",
       "      <td>5</td>\n",
       "      <td>178.8318</td>\n",
       "      <td>5</td>\n",
       "      <td>1997</td>\n",
       "      <td>2</td>\n",
       "      <td>0</td>\n",
       "      <td>1</td>\n",
       "    </tr>\n",
       "    <tr>\n",
       "      <th>8518</th>\n",
       "      <td>369</td>\n",
       "      <td>6.865</td>\n",
       "      <td>0</td>\n",
       "      <td>0.056783</td>\n",
       "      <td>13</td>\n",
       "      <td>214.5218</td>\n",
       "      <td>0</td>\n",
       "      <td>1987</td>\n",
       "      <td>0</td>\n",
       "      <td>2</td>\n",
       "      <td>1</td>\n",
       "    </tr>\n",
       "    <tr>\n",
       "      <th>8520</th>\n",
       "      <td>1354</td>\n",
       "      <td>10.600</td>\n",
       "      <td>0</td>\n",
       "      <td>0.035186</td>\n",
       "      <td>8</td>\n",
       "      <td>85.1224</td>\n",
       "      <td>4</td>\n",
       "      <td>2004</td>\n",
       "      <td>2</td>\n",
       "      <td>1</td>\n",
       "      <td>1</td>\n",
       "    </tr>\n",
       "    <tr>\n",
       "      <th>8521</th>\n",
       "      <td>680</td>\n",
       "      <td>7.210</td>\n",
       "      <td>1</td>\n",
       "      <td>0.145221</td>\n",
       "      <td>13</td>\n",
       "      <td>103.1332</td>\n",
       "      <td>1</td>\n",
       "      <td>2009</td>\n",
       "      <td>1</td>\n",
       "      <td>2</td>\n",
       "      <td>2</td>\n",
       "    </tr>\n",
       "    <tr>\n",
       "      <th>8522</th>\n",
       "      <td>49</td>\n",
       "      <td>14.800</td>\n",
       "      <td>0</td>\n",
       "      <td>0.044878</td>\n",
       "      <td>14</td>\n",
       "      <td>75.4670</td>\n",
       "      <td>5</td>\n",
       "      <td>1997</td>\n",
       "      <td>2</td>\n",
       "      <td>0</td>\n",
       "      <td>1</td>\n",
       "    </tr>\n",
       "  </tbody>\n",
       "</table>\n",
       "<p>6113 rows × 11 columns</p>\n",
       "</div>"
      ],
      "text/plain": [
       "      Item_Identifier  Item_Weight  Item_Fat_Content  Item_Visibility  \\\n",
       "0                 155        9.300                 0         0.016047   \n",
       "1                   8        5.920                 1         0.019278   \n",
       "2                 661       17.500                 0         0.016760   \n",
       "4                1294        8.930                 0         0.000000   \n",
       "5                 757       10.395                 1         0.000000   \n",
       "...               ...          ...               ...              ...   \n",
       "8517              388       20.750                 1         0.083607   \n",
       "8518              369        6.865                 0         0.056783   \n",
       "8520             1354       10.600                 0         0.035186   \n",
       "8521              680        7.210                 1         0.145221   \n",
       "8522               49       14.800                 0         0.044878   \n",
       "\n",
       "      Item_Type  Item_MRP  Outlet_Identifier  Outlet_Establishment_Year  \\\n",
       "0             4  249.8092                  6                       1999   \n",
       "1            14   48.2692                  1                       2009   \n",
       "2            10  141.6180                  6                       1999   \n",
       "4             9   53.8614                  0                       1987   \n",
       "5             0   51.4008                  1                       2009   \n",
       "...         ...       ...                ...                        ...   \n",
       "8517          5  178.8318                  5                       1997   \n",
       "8518         13  214.5218                  0                       1987   \n",
       "8520          8   85.1224                  4                       2004   \n",
       "8521         13  103.1332                  1                       2009   \n",
       "8522         14   75.4670                  5                       1997   \n",
       "\n",
       "      Outlet_Size  Outlet_Location_Type  Outlet_Type  \n",
       "0               1                     0            1  \n",
       "1               1                     2            2  \n",
       "2               1                     0            1  \n",
       "4               0                     2            1  \n",
       "5               1                     2            2  \n",
       "...           ...                   ...          ...  \n",
       "8517            2                     0            1  \n",
       "8518            0                     2            1  \n",
       "8520            2                     1            1  \n",
       "8521            1                     2            2  \n",
       "8522            2                     0            1  \n",
       "\n",
       "[6113 rows x 11 columns]"
      ]
     },
     "execution_count": 36,
     "metadata": {},
     "output_type": "execute_result"
    }
   ],
   "source": [
    "x"
   ]
  },
  {
   "cell_type": "code",
   "execution_count": 37,
   "id": "7835bf6b",
   "metadata": {
    "execution": {
     "iopub.execute_input": "2024-10-24T17:17:29.113090Z",
     "iopub.status.busy": "2024-10-24T17:17:29.112549Z",
     "iopub.status.idle": "2024-10-24T17:17:29.123055Z",
     "shell.execute_reply": "2024-10-24T17:17:29.121935Z"
    },
    "papermill": {
     "duration": 0.033474,
     "end_time": "2024-10-24T17:17:29.125374",
     "exception": false,
     "start_time": "2024-10-24T17:17:29.091900",
     "status": "completed"
    },
    "tags": []
   },
   "outputs": [
    {
     "data": {
      "text/plain": [
       "0       3735.1380\n",
       "1        443.4228\n",
       "2       2097.2700\n",
       "4        994.7052\n",
       "5        556.6088\n",
       "          ...    \n",
       "8517    3608.6360\n",
       "8518    2778.3834\n",
       "8520    1193.1136\n",
       "8521    1845.5976\n",
       "8522     765.6700\n",
       "Name: Item_Outlet_Sales, Length: 6113, dtype: float64"
      ]
     },
     "execution_count": 37,
     "metadata": {},
     "output_type": "execute_result"
    }
   ],
   "source": [
    "y"
   ]
  },
  {
   "cell_type": "markdown",
   "id": "7454fc42",
   "metadata": {
    "papermill": {
     "duration": 0.018588,
     "end_time": "2024-10-24T17:17:29.163004",
     "exception": false,
     "start_time": "2024-10-24T17:17:29.144416",
     "status": "completed"
    },
    "tags": []
   },
   "source": [
    "# spliting the data into training data & testing data"
   ]
  },
  {
   "cell_type": "code",
   "execution_count": 38,
   "id": "4895c3e3",
   "metadata": {
    "execution": {
     "iopub.execute_input": "2024-10-24T17:17:29.204631Z",
     "iopub.status.busy": "2024-10-24T17:17:29.203475Z",
     "iopub.status.idle": "2024-10-24T17:17:29.214492Z",
     "shell.execute_reply": "2024-10-24T17:17:29.213410Z"
    },
    "papermill": {
     "duration": 0.034352,
     "end_time": "2024-10-24T17:17:29.216999",
     "exception": false,
     "start_time": "2024-10-24T17:17:29.182647",
     "status": "completed"
    },
    "tags": []
   },
   "outputs": [],
   "source": [
    "x_train,x_test,y_train,y_test = train_test_split(x,y,test_size = 0.2,random_state = 42)"
   ]
  },
  {
   "cell_type": "markdown",
   "id": "953d786c",
   "metadata": {
    "papermill": {
     "duration": 0.018408,
     "end_time": "2024-10-24T17:17:29.253976",
     "exception": false,
     "start_time": "2024-10-24T17:17:29.235568",
     "status": "completed"
    },
    "tags": []
   },
   "source": [
    "# Model Training"
   ]
  },
  {
   "cell_type": "code",
   "execution_count": 39,
   "id": "23d8096e",
   "metadata": {
    "execution": {
     "iopub.execute_input": "2024-10-24T17:17:29.296819Z",
     "iopub.status.busy": "2024-10-24T17:17:29.296392Z",
     "iopub.status.idle": "2024-10-24T17:17:29.499860Z",
     "shell.execute_reply": "2024-10-24T17:17:29.498594Z"
    },
    "papermill": {
     "duration": 0.226165,
     "end_time": "2024-10-24T17:17:29.502223",
     "exception": false,
     "start_time": "2024-10-24T17:17:29.276058",
     "status": "completed"
    },
    "tags": []
   },
   "outputs": [
    {
     "data": {
      "text/html": [
       "<style>#sk-container-id-1 {color: black;background-color: white;}#sk-container-id-1 pre{padding: 0;}#sk-container-id-1 div.sk-toggleable {background-color: white;}#sk-container-id-1 label.sk-toggleable__label {cursor: pointer;display: block;width: 100%;margin-bottom: 0;padding: 0.3em;box-sizing: border-box;text-align: center;}#sk-container-id-1 label.sk-toggleable__label-arrow:before {content: \"▸\";float: left;margin-right: 0.25em;color: #696969;}#sk-container-id-1 label.sk-toggleable__label-arrow:hover:before {color: black;}#sk-container-id-1 div.sk-estimator:hover label.sk-toggleable__label-arrow:before {color: black;}#sk-container-id-1 div.sk-toggleable__content {max-height: 0;max-width: 0;overflow: hidden;text-align: left;background-color: #f0f8ff;}#sk-container-id-1 div.sk-toggleable__content pre {margin: 0.2em;color: black;border-radius: 0.25em;background-color: #f0f8ff;}#sk-container-id-1 input.sk-toggleable__control:checked~div.sk-toggleable__content {max-height: 200px;max-width: 100%;overflow: auto;}#sk-container-id-1 input.sk-toggleable__control:checked~label.sk-toggleable__label-arrow:before {content: \"▾\";}#sk-container-id-1 div.sk-estimator input.sk-toggleable__control:checked~label.sk-toggleable__label {background-color: #d4ebff;}#sk-container-id-1 div.sk-label input.sk-toggleable__control:checked~label.sk-toggleable__label {background-color: #d4ebff;}#sk-container-id-1 input.sk-hidden--visually {border: 0;clip: rect(1px 1px 1px 1px);clip: rect(1px, 1px, 1px, 1px);height: 1px;margin: -1px;overflow: hidden;padding: 0;position: absolute;width: 1px;}#sk-container-id-1 div.sk-estimator {font-family: monospace;background-color: #f0f8ff;border: 1px dotted black;border-radius: 0.25em;box-sizing: border-box;margin-bottom: 0.5em;}#sk-container-id-1 div.sk-estimator:hover {background-color: #d4ebff;}#sk-container-id-1 div.sk-parallel-item::after {content: \"\";width: 100%;border-bottom: 1px solid gray;flex-grow: 1;}#sk-container-id-1 div.sk-label:hover label.sk-toggleable__label {background-color: #d4ebff;}#sk-container-id-1 div.sk-serial::before {content: \"\";position: absolute;border-left: 1px solid gray;box-sizing: border-box;top: 0;bottom: 0;left: 50%;z-index: 0;}#sk-container-id-1 div.sk-serial {display: flex;flex-direction: column;align-items: center;background-color: white;padding-right: 0.2em;padding-left: 0.2em;position: relative;}#sk-container-id-1 div.sk-item {position: relative;z-index: 1;}#sk-container-id-1 div.sk-parallel {display: flex;align-items: stretch;justify-content: center;background-color: white;position: relative;}#sk-container-id-1 div.sk-item::before, #sk-container-id-1 div.sk-parallel-item::before {content: \"\";position: absolute;border-left: 1px solid gray;box-sizing: border-box;top: 0;bottom: 0;left: 50%;z-index: -1;}#sk-container-id-1 div.sk-parallel-item {display: flex;flex-direction: column;z-index: 1;position: relative;background-color: white;}#sk-container-id-1 div.sk-parallel-item:first-child::after {align-self: flex-end;width: 50%;}#sk-container-id-1 div.sk-parallel-item:last-child::after {align-self: flex-start;width: 50%;}#sk-container-id-1 div.sk-parallel-item:only-child::after {width: 0;}#sk-container-id-1 div.sk-dashed-wrapped {border: 1px dashed gray;margin: 0 0.4em 0.5em 0.4em;box-sizing: border-box;padding-bottom: 0.4em;background-color: white;}#sk-container-id-1 div.sk-label label {font-family: monospace;font-weight: bold;display: inline-block;line-height: 1.2em;}#sk-container-id-1 div.sk-label-container {text-align: center;}#sk-container-id-1 div.sk-container {/* jupyter's `normalize.less` sets `[hidden] { display: none; }` but bootstrap.min.css set `[hidden] { display: none !important; }` so we also need the `!important` here to be able to override the default hidden behavior on the sphinx rendered scikit-learn.org. See: https://github.com/scikit-learn/scikit-learn/issues/21755 */display: inline-block !important;position: relative;}#sk-container-id-1 div.sk-text-repr-fallback {display: none;}</style><div id=\"sk-container-id-1\" class=\"sk-top-container\"><div class=\"sk-text-repr-fallback\"><pre>XGBRegressor(base_score=None, booster=None, callbacks=None,\n",
       "             colsample_bylevel=None, colsample_bynode=None,\n",
       "             colsample_bytree=None, device=None, early_stopping_rounds=None,\n",
       "             enable_categorical=False, eval_metric=None, feature_types=None,\n",
       "             gamma=None, grow_policy=None, importance_type=None,\n",
       "             interaction_constraints=None, learning_rate=None, max_bin=None,\n",
       "             max_cat_threshold=None, max_cat_to_onehot=None,\n",
       "             max_delta_step=None, max_depth=None, max_leaves=None,\n",
       "             min_child_weight=None, missing=nan, monotone_constraints=None,\n",
       "             multi_strategy=None, n_estimators=None, n_jobs=None,\n",
       "             num_parallel_tree=None, random_state=None, ...)</pre><b>In a Jupyter environment, please rerun this cell to show the HTML representation or trust the notebook. <br />On GitHub, the HTML representation is unable to render, please try loading this page with nbviewer.org.</b></div><div class=\"sk-container\" hidden><div class=\"sk-item\"><div class=\"sk-estimator sk-toggleable\"><input class=\"sk-toggleable__control sk-hidden--visually\" id=\"sk-estimator-id-1\" type=\"checkbox\" checked><label for=\"sk-estimator-id-1\" class=\"sk-toggleable__label sk-toggleable__label-arrow\">XGBRegressor</label><div class=\"sk-toggleable__content\"><pre>XGBRegressor(base_score=None, booster=None, callbacks=None,\n",
       "             colsample_bylevel=None, colsample_bynode=None,\n",
       "             colsample_bytree=None, device=None, early_stopping_rounds=None,\n",
       "             enable_categorical=False, eval_metric=None, feature_types=None,\n",
       "             gamma=None, grow_policy=None, importance_type=None,\n",
       "             interaction_constraints=None, learning_rate=None, max_bin=None,\n",
       "             max_cat_threshold=None, max_cat_to_onehot=None,\n",
       "             max_delta_step=None, max_depth=None, max_leaves=None,\n",
       "             min_child_weight=None, missing=nan, monotone_constraints=None,\n",
       "             multi_strategy=None, n_estimators=None, n_jobs=None,\n",
       "             num_parallel_tree=None, random_state=None, ...)</pre></div></div></div></div></div>"
      ],
      "text/plain": [
       "XGBRegressor(base_score=None, booster=None, callbacks=None,\n",
       "             colsample_bylevel=None, colsample_bynode=None,\n",
       "             colsample_bytree=None, device=None, early_stopping_rounds=None,\n",
       "             enable_categorical=False, eval_metric=None, feature_types=None,\n",
       "             gamma=None, grow_policy=None, importance_type=None,\n",
       "             interaction_constraints=None, learning_rate=None, max_bin=None,\n",
       "             max_cat_threshold=None, max_cat_to_onehot=None,\n",
       "             max_delta_step=None, max_depth=None, max_leaves=None,\n",
       "             min_child_weight=None, missing=nan, monotone_constraints=None,\n",
       "             multi_strategy=None, n_estimators=None, n_jobs=None,\n",
       "             num_parallel_tree=None, random_state=None, ...)"
      ]
     },
     "execution_count": 39,
     "metadata": {},
     "output_type": "execute_result"
    }
   ],
   "source": [
    "regressor = XGBRegressor()\n",
    "regressor.fit(x_train,y_train)"
   ]
  },
  {
   "cell_type": "code",
   "execution_count": 40,
   "id": "6469a908",
   "metadata": {
    "execution": {
     "iopub.execute_input": "2024-10-24T17:17:29.543553Z",
     "iopub.status.busy": "2024-10-24T17:17:29.543128Z",
     "iopub.status.idle": "2024-10-24T17:17:29.561018Z",
     "shell.execute_reply": "2024-10-24T17:17:29.560091Z"
    },
    "papermill": {
     "duration": 0.041683,
     "end_time": "2024-10-24T17:17:29.563438",
     "exception": false,
     "start_time": "2024-10-24T17:17:29.521755",
     "status": "completed"
    },
    "tags": []
   },
   "outputs": [],
   "source": [
    "y_pred = regressor.predict(x_train)"
   ]
  },
  {
   "cell_type": "code",
   "execution_count": 41,
   "id": "e8f904e4",
   "metadata": {
    "execution": {
     "iopub.execute_input": "2024-10-24T17:17:29.605620Z",
     "iopub.status.busy": "2024-10-24T17:17:29.604841Z",
     "iopub.status.idle": "2024-10-24T17:17:29.611112Z",
     "shell.execute_reply": "2024-10-24T17:17:29.609990Z"
    },
    "papermill": {
     "duration": 0.029983,
     "end_time": "2024-10-24T17:17:29.613426",
     "exception": false,
     "start_time": "2024-10-24T17:17:29.583443",
     "status": "completed"
    },
    "tags": []
   },
   "outputs": [],
   "source": [
    "r2_score = metrics.r2_score(y_train,y_pred)"
   ]
  },
  {
   "cell_type": "code",
   "execution_count": 42,
   "id": "e7f50f56",
   "metadata": {
    "execution": {
     "iopub.execute_input": "2024-10-24T17:17:29.655438Z",
     "iopub.status.busy": "2024-10-24T17:17:29.655046Z",
     "iopub.status.idle": "2024-10-24T17:17:29.660798Z",
     "shell.execute_reply": "2024-10-24T17:17:29.659555Z"
    },
    "papermill": {
     "duration": 0.029703,
     "end_time": "2024-10-24T17:17:29.663253",
     "exception": false,
     "start_time": "2024-10-24T17:17:29.633550",
     "status": "completed"
    },
    "tags": []
   },
   "outputs": [
    {
     "name": "stdout",
     "output_type": "stream",
     "text": [
      "R squared value: 0.9102681220565524\n"
     ]
    }
   ],
   "source": [
    "print(f\"R squared value: {r2_score}\")"
   ]
  },
  {
   "cell_type": "markdown",
   "id": "4e06b1d6",
   "metadata": {
    "papermill": {
     "duration": 0.021225,
     "end_time": "2024-10-24T17:17:29.704944",
     "exception": false,
     "start_time": "2024-10-24T17:17:29.683719",
     "status": "completed"
    },
    "tags": []
   },
   "source": [
    "# THANK YOUU :)"
   ]
  }
 ],
 "metadata": {
  "kaggle": {
   "accelerator": "none",
   "dataSources": [
    {
     "datasetId": 9961,
     "sourceId": 14084,
     "sourceType": "datasetVersion"
    }
   ],
   "dockerImageVersionId": 30786,
   "isGpuEnabled": false,
   "isInternetEnabled": true,
   "language": "python",
   "sourceType": "notebook"
  },
  "kernelspec": {
   "display_name": "Python 3",
   "language": "python",
   "name": "python3"
  },
  "language_info": {
   "codemirror_mode": {
    "name": "ipython",
    "version": 3
   },
   "file_extension": ".py",
   "mimetype": "text/x-python",
   "name": "python",
   "nbconvert_exporter": "python",
   "pygments_lexer": "ipython3",
   "version": "3.10.14"
  },
  "papermill": {
   "default_parameters": {},
   "duration": 13.499008,
   "end_time": "2024-10-24T17:17:30.448004",
   "environment_variables": {},
   "exception": null,
   "input_path": "__notebook__.ipynb",
   "output_path": "__notebook__.ipynb",
   "parameters": {},
   "start_time": "2024-10-24T17:17:16.948996",
   "version": "2.6.0"
  }
 },
 "nbformat": 4,
 "nbformat_minor": 5
}
